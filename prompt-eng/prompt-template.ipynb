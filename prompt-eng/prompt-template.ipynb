{
 "cells": [
  {
   "cell_type": "code",
   "execution_count": 9,
   "metadata": {},
   "outputs": [
    {
     "name": "stdout",
     "output_type": "stream",
     "text": [
      "2\n",
      "Time taken: 0.24 secs\n"
     ]
    }
   ],
   "source": [
    "import requests\n",
    "import json\n",
    "import time\n",
    "from pipeline import model_orch\n",
    "\n",
    "# Inbounding message\n",
    "# THIS IS THE MESSAGE COMING FROM THE INTERFACE\n",
    "MESSAGE = \"1 + 1\"\n",
    "\n",
    "# Apply Prompt Engineering Technique\n",
    "# CHANGE HERE\n",
    "PROMPT_TEMPLATE_BEGIN = \"Act like you are answering to mathematical questions.\\nAnswer to this question:\"\n",
    "PROMPT_TEMPLATE_END = \"Give only the final result\"\n",
    "PROMPT = PROMPT_TEMPLATE_BEGIN + \"\\n\" + MESSAGE + \"\\n\" + PROMPT_TEMPLATE_END \n",
    "\n",
    "# Configure the request\n",
    "# ADJUST URL TO YOUR MODEL SERVER!!!\n",
    "URL = \"http://minipc:11434/api/generate\"\n",
    "MODEL = \"llama3.2\"\n",
    "NUM_CTX = 100\n",
    "NUM_PREDICT = 100\n",
    "TEMPERATURE = 0.8\n",
    "\n",
    "# Create payload\n",
    "payload = {\n",
    "    \"model\": MODEL,\n",
    "    \"prompt\": PROMPT, \n",
    "    \"stream\": False,\n",
    "    \"options\": {\n",
    "        \"temparature\": TEMPERATURE,\n",
    "        \"num_ctx\" : NUM_CTX,  \n",
    "        \"num_predict\": NUM_PREDICT\n",
    "    }\n",
    "}\n",
    "\n",
    "# Send out to the model\n",
    "model_orch(url=URL, payload=payload)\n"
   ]
  }
 ],
 "metadata": {
  "kernelspec": {
   "display_name": "Python 3",
   "language": "python",
   "name": "python3"
  },
  "language_info": {
   "codemirror_mode": {
    "name": "ipython",
    "version": 3
   },
   "file_extension": ".py",
   "mimetype": "text/x-python",
   "name": "python",
   "nbconvert_exporter": "python",
   "pygments_lexer": "ipython3",
   "version": "3.13.1"
  }
 },
 "nbformat": 4,
 "nbformat_minor": 2
}
